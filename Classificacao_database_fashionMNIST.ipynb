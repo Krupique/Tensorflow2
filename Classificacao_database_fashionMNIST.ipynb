{
  "nbformat": 4,
  "nbformat_minor": 0,
  "metadata": {
    "colab": {
      "name": "Classificacao_database_fashionMNIST.ipynb",
      "provenance": [],
      "include_colab_link": true
    },
    "kernelspec": {
      "name": "python3",
      "display_name": "Python 3"
    }
  },
  "cells": [
    {
      "cell_type": "markdown",
      "metadata": {
        "id": "view-in-github",
        "colab_type": "text"
      },
      "source": [
        "<a href=\"https://colab.research.google.com/github/Krupique/Tensorflow2/blob/master/Classificacao_database_fashionMNIST.ipynb\" target=\"_parent\"><img src=\"https://colab.research.google.com/assets/colab-badge.svg\" alt=\"Open In Colab\"/></a>"
      ]
    },
    {
      "cell_type": "markdown",
      "metadata": {
        "id": "hsCtmAZcgKv2",
        "colab_type": "text"
      },
      "source": [
        "#Construindo uma Rede Neural Artificial"
      ]
    },
    {
      "cell_type": "markdown",
      "metadata": {
        "id": "Pi2Zr5_GgCXS",
        "colab_type": "text"
      },
      "source": [
        "Base de dados disponível em: https://storage.googleapis.com/kaggle-datasets-images/2243/3791/9384af51de8baa77f6320901f53bd26b/dataset-cover.png"
      ]
    },
    {
      "cell_type": "markdown",
      "metadata": {
        "id": "HVf5aFdSfqx4",
        "colab_type": "text"
      },
      "source": [
        "![alt text](https://storage.googleapis.com/kaggle-datasets-images/2243/3791/9384af51de8baa77f6320901f53bd26b/dataset-cover.png)"
      ]
    },
    {
      "cell_type": "markdown",
      "metadata": {
        "id": "1bC4dnFygU0o",
        "colab_type": "text"
      },
      "source": [
        "##1. Instalando o TensorFlow 2.0"
      ]
    },
    {
      "cell_type": "code",
      "metadata": {
        "id": "o3mOK6Llgac6",
        "colab_type": "code",
        "colab": {
          "base_uri": "https://localhost:8080/",
          "height": 496
        },
        "outputId": "ddaae5d3-e5ca-4e5f-dfe2-73bc19bf235e"
      },
      "source": [
        "!pip install tensorflow-gpu==2.0.0.alpha0"
      ],
      "execution_count": 2,
      "outputs": [
        {
          "output_type": "stream",
          "text": [
            "Collecting tensorflow-gpu==2.0.0.alpha0\n",
            "\u001b[?25l  Downloading https://files.pythonhosted.org/packages/1a/66/32cffad095253219d53f6b6c2a436637bbe45ac4e7be0244557210dc3918/tensorflow_gpu-2.0.0a0-cp36-cp36m-manylinux1_x86_64.whl (332.1MB)\n",
            "\u001b[K     |████████████████████████████████| 332.1MB 63kB/s \n",
            "\u001b[?25hRequirement already satisfied: absl-py>=0.7.0 in /usr/local/lib/python3.6/dist-packages (from tensorflow-gpu==2.0.0.alpha0) (0.8.0)\n",
            "Requirement already satisfied: six>=1.10.0 in /usr/local/lib/python3.6/dist-packages (from tensorflow-gpu==2.0.0.alpha0) (1.12.0)\n",
            "Requirement already satisfied: protobuf>=3.6.1 in /usr/local/lib/python3.6/dist-packages (from tensorflow-gpu==2.0.0.alpha0) (3.7.1)\n",
            "Collecting tb-nightly<1.14.0a20190302,>=1.14.0a20190301 (from tensorflow-gpu==2.0.0.alpha0)\n",
            "\u001b[?25l  Downloading https://files.pythonhosted.org/packages/a9/51/aa1d756644bf4624c03844115e4ac4058eff77acd786b26315f051a4b195/tb_nightly-1.14.0a20190301-py3-none-any.whl (3.0MB)\n",
            "\u001b[K     |████████████████████████████████| 3.0MB 31.2MB/s \n",
            "\u001b[?25hRequirement already satisfied: wheel>=0.26 in /usr/local/lib/python3.6/dist-packages (from tensorflow-gpu==2.0.0.alpha0) (0.33.6)\n",
            "Requirement already satisfied: gast>=0.2.0 in /usr/local/lib/python3.6/dist-packages (from tensorflow-gpu==2.0.0.alpha0) (0.2.2)\n",
            "Requirement already satisfied: google-pasta>=0.1.2 in /usr/local/lib/python3.6/dist-packages (from tensorflow-gpu==2.0.0.alpha0) (0.1.7)\n",
            "Requirement already satisfied: termcolor>=1.1.0 in /usr/local/lib/python3.6/dist-packages (from tensorflow-gpu==2.0.0.alpha0) (1.1.0)\n",
            "Requirement already satisfied: grpcio>=1.8.6 in /usr/local/lib/python3.6/dist-packages (from tensorflow-gpu==2.0.0.alpha0) (1.15.0)\n",
            "Requirement already satisfied: numpy<2.0,>=1.14.5 in /usr/local/lib/python3.6/dist-packages (from tensorflow-gpu==2.0.0.alpha0) (1.16.5)\n",
            "Requirement already satisfied: astor>=0.6.0 in /usr/local/lib/python3.6/dist-packages (from tensorflow-gpu==2.0.0.alpha0) (0.8.0)\n",
            "Requirement already satisfied: keras-preprocessing>=1.0.5 in /usr/local/lib/python3.6/dist-packages (from tensorflow-gpu==2.0.0.alpha0) (1.1.0)\n",
            "Requirement already satisfied: keras-applications>=1.0.6 in /usr/local/lib/python3.6/dist-packages (from tensorflow-gpu==2.0.0.alpha0) (1.0.8)\n",
            "Collecting tf-estimator-nightly<1.14.0.dev2019030116,>=1.14.0.dev2019030115 (from tensorflow-gpu==2.0.0.alpha0)\n",
            "\u001b[?25l  Downloading https://files.pythonhosted.org/packages/13/82/f16063b4eed210dc2ab057930ac1da4fbe1e91b7b051a6c8370b401e6ae7/tf_estimator_nightly-1.14.0.dev2019030115-py2.py3-none-any.whl (411kB)\n",
            "\u001b[K     |████████████████████████████████| 419kB 37.8MB/s \n",
            "\u001b[?25hRequirement already satisfied: setuptools in /usr/local/lib/python3.6/dist-packages (from protobuf>=3.6.1->tensorflow-gpu==2.0.0.alpha0) (41.2.0)\n",
            "Requirement already satisfied: markdown>=2.6.8 in /usr/local/lib/python3.6/dist-packages (from tb-nightly<1.14.0a20190302,>=1.14.0a20190301->tensorflow-gpu==2.0.0.alpha0) (3.1.1)\n",
            "Requirement already satisfied: werkzeug>=0.11.15 in /usr/local/lib/python3.6/dist-packages (from tb-nightly<1.14.0a20190302,>=1.14.0a20190301->tensorflow-gpu==2.0.0.alpha0) (0.15.6)\n",
            "Requirement already satisfied: h5py in /usr/local/lib/python3.6/dist-packages (from keras-applications>=1.0.6->tensorflow-gpu==2.0.0.alpha0) (2.8.0)\n",
            "Installing collected packages: tb-nightly, tf-estimator-nightly, tensorflow-gpu\n",
            "Successfully installed tb-nightly-1.14.0a20190301 tensorflow-gpu-2.0.0a0 tf-estimator-nightly-1.14.0.dev2019030115\n"
          ],
          "name": "stdout"
        }
      ]
    },
    {
      "cell_type": "markdown",
      "metadata": {
        "id": "7IKNN0Bxgt56",
        "colab_type": "text"
      },
      "source": [
        "##2. Importando as bibliotecas e a base de dados"
      ]
    },
    {
      "cell_type": "code",
      "metadata": {
        "id": "T3u1WAicgx7e",
        "colab_type": "code",
        "colab": {}
      },
      "source": [
        "import numpy as np\n",
        "import datetime\n",
        "import tensorflow as tf\n",
        "from tensorflow.keras.datasets import fashion_mnist"
      ],
      "execution_count": 0,
      "outputs": []
    },
    {
      "cell_type": "code",
      "metadata": {
        "id": "FnEN5JODg9Yq",
        "colab_type": "code",
        "colab": {
          "base_uri": "https://localhost:8080/",
          "height": 34
        },
        "outputId": "c87a0654-056c-4266-be83-2b1a171ae056"
      },
      "source": [
        "tf.__version__"
      ],
      "execution_count": 4,
      "outputs": [
        {
          "output_type": "execute_result",
          "data": {
            "text/plain": [
              "'2.0.0-alpha0'"
            ]
          },
          "metadata": {
            "tags": []
          },
          "execution_count": 4
        }
      ]
    },
    {
      "cell_type": "markdown",
      "metadata": {
        "id": "fBSXLsuchCcf",
        "colab_type": "text"
      },
      "source": [
        "##3. Pré-processamento"
      ]
    },
    {
      "cell_type": "markdown",
      "metadata": {
        "id": "MUPzaHtmhHow",
        "colab_type": "text"
      },
      "source": [
        "###Carregando a base de dados"
      ]
    },
    {
      "cell_type": "code",
      "metadata": {
        "id": "Edd8wlSJhKZT",
        "colab_type": "code",
        "colab": {}
      },
      "source": [
        "(x_train, y_train), (x_test, y_test) = fashion_mnist.load_data()"
      ],
      "execution_count": 0,
      "outputs": []
    },
    {
      "cell_type": "markdown",
      "metadata": {
        "id": "-BWvNJhPi8bY",
        "colab_type": "text"
      },
      "source": [
        "#####Visualização dos dados"
      ]
    },
    {
      "cell_type": "code",
      "metadata": {
        "id": "Rv96-w8tiEM2",
        "colab_type": "code",
        "colab": {}
      },
      "source": [
        "x_train"
      ],
      "execution_count": 0,
      "outputs": []
    },
    {
      "cell_type": "code",
      "metadata": {
        "id": "M-Hwy9C4iMxq",
        "colab_type": "code",
        "colab": {}
      },
      "source": [
        "x_train[0]"
      ],
      "execution_count": 0,
      "outputs": []
    },
    {
      "cell_type": "code",
      "metadata": {
        "id": "EfA4cnFliSQh",
        "colab_type": "code",
        "colab": {}
      },
      "source": [
        "y_train"
      ],
      "execution_count": 0,
      "outputs": []
    },
    {
      "cell_type": "code",
      "metadata": {
        "id": "vfWUZqgMii5B",
        "colab_type": "code",
        "colab": {}
      },
      "source": [
        "y_train[0]"
      ],
      "execution_count": 0,
      "outputs": []
    },
    {
      "cell_type": "code",
      "metadata": {
        "id": "8GkCN8-Sil0W",
        "colab_type": "code",
        "colab": {}
      },
      "source": [
        "y_train.size"
      ],
      "execution_count": 0,
      "outputs": []
    },
    {
      "cell_type": "markdown",
      "metadata": {
        "id": "W0eMG7YSjSOb",
        "colab_type": "text"
      },
      "source": [
        "######Classes\n",
        "* 0. T-shirt/top (Camiseta)\n",
        "* 1. Trouser (Calças)\n",
        "* 2. Pullover (Suéter)\n",
        "* 3. Dress (Vestido)\n",
        "* 4. Coat (Casaco)\n",
        "* 5. Sandal (Sandália)\n",
        "* 6. Shirt (Camisa)\n",
        "* 7. Sneaker (Tênis)\n",
        "* 8. Bag (Bolsa)\n",
        "* 9. Ankle boot (Bota)"
      ]
    },
    {
      "cell_type": "markdown",
      "metadata": {
        "id": "MoTFCNkZkwXw",
        "colab_type": "text"
      },
      "source": [
        "###Normalizando as imagens\n",
        "Dividimos cada pixel das imagens das bases de treinamento e teste, utilizando o maior valor que é 255. Com isso, cada pixel estará na faixa entre 0 e 1. Dessa forma, a rede vai treinar mais rapidamente."
      ]
    },
    {
      "cell_type": "code",
      "metadata": {
        "id": "vquSFg2MlK0V",
        "colab_type": "code",
        "colab": {}
      },
      "source": [
        "x_train = x_train / 255.0"
      ],
      "execution_count": 0,
      "outputs": []
    },
    {
      "cell_type": "code",
      "metadata": {
        "id": "apCiKtpylTrh",
        "colab_type": "code",
        "colab": {}
      },
      "source": [
        "x_test = x_test / 255.0"
      ],
      "execution_count": 0,
      "outputs": []
    },
    {
      "cell_type": "markdown",
      "metadata": {
        "id": "RBrm5n1klrhu",
        "colab_type": "text"
      },
      "source": [
        "###Remodelando (reshaping) a base de dados\n",
        "Como estamos trabalhando com uma rede neural densa, mudamos a dimensão das bases de dados para ficarem no formato de vetor"
      ]
    },
    {
      "cell_type": "code",
      "metadata": {
        "id": "cs17LWmnl2Qt",
        "colab_type": "code",
        "colab": {
          "base_uri": "https://localhost:8080/",
          "height": 34
        },
        "outputId": "a276694e-9ae8-4d21-e9ff-9823b83a35f2"
      },
      "source": [
        "x_train.shape"
      ],
      "execution_count": 20,
      "outputs": [
        {
          "output_type": "execute_result",
          "data": {
            "text/plain": [
              "(60000, 28, 28)"
            ]
          },
          "metadata": {
            "tags": []
          },
          "execution_count": 20
        }
      ]
    },
    {
      "cell_type": "code",
      "metadata": {
        "id": "0OJ_q6Pvl4fl",
        "colab_type": "code",
        "colab": {}
      },
      "source": [
        "#Como a dimensão de cada imagem é 28x28, mudamos toda a base de dados para o formato [-1 (todos os elementos), altura * largura]\n",
        "x_train = x_train.reshape(-1, 28*28)"
      ],
      "execution_count": 0,
      "outputs": []
    },
    {
      "cell_type": "code",
      "metadata": {
        "id": "bQ8e7NFXmHiN",
        "colab_type": "code",
        "colab": {
          "base_uri": "https://localhost:8080/",
          "height": 34
        },
        "outputId": "3f3484bf-96fd-444b-923e-29d7c7cab007"
      },
      "source": [
        "x_train.shape"
      ],
      "execution_count": 22,
      "outputs": [
        {
          "output_type": "execute_result",
          "data": {
            "text/plain": [
              "(60000, 784)"
            ]
          },
          "metadata": {
            "tags": []
          },
          "execution_count": 22
        }
      ]
    },
    {
      "cell_type": "code",
      "metadata": {
        "id": "-vPd_KG-mJZ1",
        "colab_type": "code",
        "colab": {}
      },
      "source": [
        "#Mudamos também a dimensão da base de testes\n",
        "x_test = x_test.reshape(-1, 28*28)"
      ],
      "execution_count": 0,
      "outputs": []
    },
    {
      "cell_type": "code",
      "metadata": {
        "id": "G7n6vRFMmNqB",
        "colab_type": "code",
        "colab": {
          "base_uri": "https://localhost:8080/",
          "height": 34
        },
        "outputId": "545319b5-80a8-43f0-b831-5831e643ff17"
      },
      "source": [
        "x_test.shape"
      ],
      "execution_count": 25,
      "outputs": [
        {
          "output_type": "execute_result",
          "data": {
            "text/plain": [
              "(10000, 784)"
            ]
          },
          "metadata": {
            "tags": []
          },
          "execution_count": 25
        }
      ]
    },
    {
      "cell_type": "markdown",
      "metadata": {
        "id": "KWEJ428fmcmb",
        "colab_type": "text"
      },
      "source": [
        "##4. Construindo a Rede Neural Artificial"
      ]
    },
    {
      "cell_type": "markdown",
      "metadata": {
        "id": "OZ5CFRcPm5Kz",
        "colab_type": "text"
      },
      "source": [
        "###Definindo o modelo\n",
        "Definimos um objeto do tipo Sequencial (Sequência de camadas)"
      ]
    },
    {
      "cell_type": "code",
      "metadata": {
        "id": "LarzMe4xnAll",
        "colab_type": "code",
        "colab": {}
      },
      "source": [
        "model = tf.keras.models.Sequential()"
      ],
      "execution_count": 0,
      "outputs": []
    },
    {
      "cell_type": "code",
      "metadata": {
        "id": "CxzsOz9enDkB",
        "colab_type": "code",
        "colab": {
          "base_uri": "https://localhost:8080/",
          "height": 34
        },
        "outputId": "3e42860b-6a6f-446d-9ffa-d6b3c45217b3"
      },
      "source": [
        "model"
      ],
      "execution_count": 27,
      "outputs": [
        {
          "output_type": "execute_result",
          "data": {
            "text/plain": [
              "<tensorflow.python.keras.engine.sequential.Sequential at 0x7f43138354a8>"
            ]
          },
          "metadata": {
            "tags": []
          },
          "execution_count": 27
        }
      ]
    },
    {
      "cell_type": "markdown",
      "metadata": {
        "id": "hKFzftmHnF5N",
        "colab_type": "text"
      },
      "source": [
        "###Adicionando a primeira camada densa (fully-connected)\n",
        "Hyper-parâmetros da camada:\n",
        "* número de units/neurônios: 128\n",
        "* função de ativação: RELU\n",
        "* input_shape(camada de entrada): (784,)"
      ]
    },
    {
      "cell_type": "code",
      "metadata": {
        "id": "kJMSdw07ncZR",
        "colab_type": "code",
        "colab": {}
      },
      "source": [
        "model.add(tf.keras.layers.Dense(units=128, activation='relu', input_shape=(784,)))"
      ],
      "execution_count": 0,
      "outputs": []
    },
    {
      "cell_type": "markdown",
      "metadata": {
        "id": "ccFuE0u0oCWO",
        "colab_type": "text"
      },
      "source": [
        "###Adicionando a segunda camada escondida com Dropout\n",
        "Dropout é uma técnica de regularização na qual alguns neurônios da camada tem seu valor mudado para zero, ou seja, durante o treinamento esses neurônios não serão atualizados. Com isso, temos menos chances de ocorrer overfitting"
      ]
    },
    {
      "cell_type": "code",
      "metadata": {
        "id": "4pDNJPMXoX5c",
        "colab_type": "code",
        "colab": {}
      },
      "source": [
        "model.add(tf.keras.layers.Dropout(0.2))"
      ],
      "execution_count": 0,
      "outputs": []
    },
    {
      "cell_type": "markdown",
      "metadata": {
        "id": "ShsRlRIXofuk",
        "colab_type": "text"
      },
      "source": [
        "###Adicionando a camada de saída\n",
        "* units: números de classes (10 na base de dados Fashion MNIST)\n",
        "* função de ativação: Softmax"
      ]
    },
    {
      "cell_type": "code",
      "metadata": {
        "id": "kGAqQsBnovvQ",
        "colab_type": "code",
        "colab": {}
      },
      "source": [
        "model.add(tf.keras.layers.Dense(units=10, activation='softmax'))"
      ],
      "execution_count": 0,
      "outputs": []
    },
    {
      "cell_type": "markdown",
      "metadata": {
        "id": "WBmXZQcGpWU-",
        "colab_type": "text"
      },
      "source": [
        "###Compilando o modelo\n",
        "* Optimizer (otimizador): Adam\n",
        "* Loss (função de erro): Sparse softmax(categorical) crossentropy"
      ]
    },
    {
      "cell_type": "code",
      "metadata": {
        "id": "ykchNa67pYMV",
        "colab_type": "code",
        "colab": {}
      },
      "source": [
        "model.compile(optimizer='adam', loss='sparse_categorical_crossentropy', metrics=['sparse_categorical_accuracy'])"
      ],
      "execution_count": 0,
      "outputs": []
    },
    {
      "cell_type": "code",
      "metadata": {
        "id": "BpZb3jxEpzT5",
        "colab_type": "code",
        "colab": {
          "base_uri": "https://localhost:8080/",
          "height": 255
        },
        "outputId": "6d5ccdd1-0f25-4a95-caef-730bfeddfec7"
      },
      "source": [
        "model.summary()"
      ],
      "execution_count": 32,
      "outputs": [
        {
          "output_type": "stream",
          "text": [
            "Model: \"sequential\"\n",
            "_________________________________________________________________\n",
            "Layer (type)                 Output Shape              Param #   \n",
            "=================================================================\n",
            "dense (Dense)                (None, 128)               100480    \n",
            "_________________________________________________________________\n",
            "dropout (Dropout)            (None, 128)               0         \n",
            "_________________________________________________________________\n",
            "dense_1 (Dense)              (None, 10)                1290      \n",
            "=================================================================\n",
            "Total params: 101,770\n",
            "Trainable params: 101,770\n",
            "Non-trainable params: 0\n",
            "_________________________________________________________________\n"
          ],
          "name": "stdout"
        }
      ]
    },
    {
      "cell_type": "markdown",
      "metadata": {
        "id": "1S88yLnJp6QC",
        "colab_type": "text"
      },
      "source": [
        "###Treinando o modelo"
      ]
    },
    {
      "cell_type": "code",
      "metadata": {
        "id": "rVSlJFMFp9I0",
        "colab_type": "code",
        "colab": {
          "base_uri": "https://localhost:8080/",
          "height": 394
        },
        "outputId": "03a947aa-e868-4449-bc61-1dfac35ccc62"
      },
      "source": [
        "model.fit(x_train, y_train, epochs=10)"
      ],
      "execution_count": 37,
      "outputs": [
        {
          "output_type": "stream",
          "text": [
            "Epoch 1/10\n",
            "60000/60000 [==============================] - 6s 92us/sample - loss: 0.3176 - sparse_categorical_accuracy: 0.8820\n",
            "Epoch 2/10\n",
            "60000/60000 [==============================] - 5s 87us/sample - loss: 0.3084 - sparse_categorical_accuracy: 0.8860\n",
            "Epoch 3/10\n",
            "60000/60000 [==============================] - 5s 87us/sample - loss: 0.2985 - sparse_categorical_accuracy: 0.8889\n",
            "Epoch 4/10\n",
            "60000/60000 [==============================] - 5s 87us/sample - loss: 0.2912 - sparse_categorical_accuracy: 0.8917\n",
            "Epoch 5/10\n",
            "60000/60000 [==============================] - 5s 88us/sample - loss: 0.2843 - sparse_categorical_accuracy: 0.8944\n",
            "Epoch 6/10\n",
            "60000/60000 [==============================] - 5s 90us/sample - loss: 0.2786 - sparse_categorical_accuracy: 0.8957\n",
            "Epoch 7/10\n",
            "60000/60000 [==============================] - 5s 91us/sample - loss: 0.2715 - sparse_categorical_accuracy: 0.8979\n",
            "Epoch 8/10\n",
            "60000/60000 [==============================] - 5s 89us/sample - loss: 0.2643 - sparse_categorical_accuracy: 0.9010\n",
            "Epoch 9/10\n",
            "60000/60000 [==============================] - 5s 92us/sample - loss: 0.2612 - sparse_categorical_accuracy: 0.9026\n",
            "Epoch 10/10\n",
            "60000/60000 [==============================] - 6s 93us/sample - loss: 0.2568 - sparse_categorical_accuracy: 0.9038\n"
          ],
          "name": "stdout"
        },
        {
          "output_type": "execute_result",
          "data": {
            "text/plain": [
              "<tensorflow.python.keras.callbacks.History at 0x7f43047ef630>"
            ]
          },
          "metadata": {
            "tags": []
          },
          "execution_count": 37
        }
      ]
    },
    {
      "cell_type": "markdown",
      "metadata": {
        "id": "olrn1hzUqDeI",
        "colab_type": "text"
      },
      "source": [
        "###Avaliação do modelo e previsão"
      ]
    },
    {
      "cell_type": "code",
      "metadata": {
        "id": "jnGBQ2NuqHP4",
        "colab_type": "code",
        "colab": {
          "base_uri": "https://localhost:8080/",
          "height": 54
        },
        "outputId": "f8ec42d0-b273-44f0-e00d-0b6401b2e9d2"
      },
      "source": [
        "test_loss, test_accuracy = model.evaluate(x_test, y_test)"
      ],
      "execution_count": 38,
      "outputs": [
        {
          "output_type": "stream",
          "text": [
            "10000/10000 [==============================] - 0s 47us/sample - loss: 0.3400 - sparse_categorical_accuracy: 0.8833\n"
          ],
          "name": "stdout"
        }
      ]
    },
    {
      "cell_type": "code",
      "metadata": {
        "id": "7e72BkL1qOOU",
        "colab_type": "code",
        "colab": {
          "base_uri": "https://localhost:8080/",
          "height": 34
        },
        "outputId": "7ad59eaa-4d86-45e8-d78f-e111fe690e53"
      },
      "source": [
        "print('Teste accuracy: {}'.format(test_accuracy))"
      ],
      "execution_count": 39,
      "outputs": [
        {
          "output_type": "stream",
          "text": [
            "Teste accuracy: 0.8833000063896179\n"
          ],
          "name": "stdout"
        }
      ]
    },
    {
      "cell_type": "code",
      "metadata": {
        "id": "cGVFAydlqT85",
        "colab_type": "code",
        "colab": {
          "base_uri": "https://localhost:8080/",
          "height": 34
        },
        "outputId": "68785a1e-f112-4649-f3d3-7e28348c5267"
      },
      "source": [
        "test_loss"
      ],
      "execution_count": 40,
      "outputs": [
        {
          "output_type": "execute_result",
          "data": {
            "text/plain": [
              "0.3399717877864838"
            ]
          },
          "metadata": {
            "tags": []
          },
          "execution_count": 40
        }
      ]
    },
    {
      "cell_type": "markdown",
      "metadata": {
        "id": "ENq5tFMgzGr3",
        "colab_type": "text"
      },
      "source": [
        "###Dicas para aumentar a precisão do modelo\n",
        "* Treinar a rede neural por mais épocas\n",
        "* Adicionar mais camadas escondidas\n",
        "* Trocar o otimizador e a taxa de aprendizagem\n",
        "* Trocar as funções de ativação"
      ]
    }
  ]
}